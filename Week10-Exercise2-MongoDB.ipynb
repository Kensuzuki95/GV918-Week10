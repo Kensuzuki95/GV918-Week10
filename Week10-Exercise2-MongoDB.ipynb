{
  "nbformat": 4,
  "nbformat_minor": 0,
  "metadata": {
    "colab": {
      "name": "Week10-Exercise2-MongoDB.ipynb",
      "provenance": [],
      "collapsed_sections": [],
      "toc_visible": true
    },
    "kernelspec": {
      "name": "python3",
      "display_name": "Python 3"
    }
  },
  "cells": [
    {
      "cell_type": "markdown",
      "metadata": {
        "id": "E7TIYss-o1yg"
      },
      "source": [
        "# Tasks\n",
        "\n",
        "- In this exercise, we will work with a mongodb on Atlas\n",
        "- We put US county covid data on Mongo\n",
        "- Then run queries\n",
        "\n"
      ]
    },
    {
      "cell_type": "markdown",
      "metadata": {
        "id": "6hzkeFtQpbts"
      },
      "source": [
        "## Find the current IP address of Colab Notebook\n",
        "\n",
        "We need to make this IP accessible to the Mongo Instance"
      ]
    },
    {
      "cell_type": "code",
      "metadata": {
        "id": "pbme8WmjPI7R",
        "outputId": "03ce0e57-1baa-4000-afa5-2cf5faa3c0ed",
        "colab": {
          "base_uri": "https://localhost:8080/"
        }
      },
      "source": [
        "!curl ipecho.net/plain"
      ],
      "execution_count": 1,
      "outputs": [
        {
          "output_type": "stream",
          "text": [
            "34.83.189.230"
          ],
          "name": "stdout"
        }
      ]
    },
    {
      "cell_type": "markdown",
      "metadata": {
        "id": "u6YU7fRMCO8z"
      },
      "source": [
        "## Prepare mongo_uri file"
      ]
    },
    {
      "cell_type": "code",
      "metadata": {
        "id": "q_sW7a98COXd"
      },
      "source": [
        "!touch mongo_uri.py"
      ],
      "execution_count": 8,
      "outputs": []
    },
    {
      "cell_type": "code",
      "metadata": {
        "id": "24ZN9H1EEQAf"
      },
      "source": [
        "import mongo_uri"
      ],
      "execution_count": 12,
      "outputs": []
    },
    {
      "cell_type": "markdown",
      "metadata": {
        "id": "P6HKCq-ACvTX"
      },
      "source": [
        "## Parepare mongo connection\n",
        "\n",
        "- First you need to install dnspython"
      ]
    },
    {
      "cell_type": "code",
      "metadata": {
        "id": "Z7YRkuX3W5Yc",
        "outputId": "3f03f552-91db-49d7-87f8-586780c4c784",
        "colab": {
          "base_uri": "https://localhost:8080/"
        }
      },
      "source": [
        "!pip install dnspython"
      ],
      "execution_count": 13,
      "outputs": [
        {
          "output_type": "stream",
          "text": [
            "Requirement already satisfied: dnspython in /usr/local/lib/python3.6/dist-packages (2.0.0)\n"
          ],
          "name": "stdout"
        }
      ]
    },
    {
      "cell_type": "code",
      "metadata": {
        "id": "E1rTWJ9zXCcN"
      },
      "source": [
        "import dns"
      ],
      "execution_count": 14,
      "outputs": []
    },
    {
      "cell_type": "code",
      "metadata": {
        "id": "YjHmYAZbVuip"
      },
      "source": [
        "import pymongo\n",
        "from pymongo import MongoClient"
      ],
      "execution_count": 15,
      "outputs": []
    },
    {
      "cell_type": "markdown",
      "metadata": {
        "id": "bfKYvd2QDBW5"
      },
      "source": [
        "## Connect to the database"
      ]
    },
    {
      "cell_type": "code",
      "metadata": {
        "id": "6FhE_Wb2WJAG",
        "outputId": "c50f7732-26ed-4ddf-9e1c-22e45f0be78c",
        "colab": {
          "base_uri": "https://localhost:8080/",
          "height": 197
        }
      },
      "source": [
        "cluster = MongoClient(mongo_uri.db_uri)\n",
        "db = cluster['ks-gv918']\n",
        "collection = db['covid'] # need to create a collection before using it. this line should create it"
      ],
      "execution_count": 20,
      "outputs": [
        {
          "output_type": "error",
          "ename": "AttributeError",
          "evalue": "ignored",
          "traceback": [
            "\u001b[0;31m---------------------------------------------------------------------------\u001b[0m",
            "\u001b[0;31mAttributeError\u001b[0m                            Traceback (most recent call last)",
            "\u001b[0;32m<ipython-input-20-d99342120e9a>\u001b[0m in \u001b[0;36m<module>\u001b[0;34m()\u001b[0m\n\u001b[0;32m----> 1\u001b[0;31m \u001b[0mcluster\u001b[0m \u001b[0;34m=\u001b[0m \u001b[0mMongoClient\u001b[0m\u001b[0;34m(\u001b[0m\u001b[0mmongo_uri\u001b[0m\u001b[0;34m.\u001b[0m\u001b[0mdb_uri\u001b[0m\u001b[0;34m)\u001b[0m\u001b[0;34m\u001b[0m\u001b[0;34m\u001b[0m\u001b[0m\n\u001b[0m\u001b[1;32m      2\u001b[0m \u001b[0mdb\u001b[0m \u001b[0;34m=\u001b[0m \u001b[0mcluster\u001b[0m\u001b[0;34m[\u001b[0m\u001b[0;34m'ks-gv918'\u001b[0m\u001b[0;34m]\u001b[0m\u001b[0;34m\u001b[0m\u001b[0;34m\u001b[0m\u001b[0m\n\u001b[1;32m      3\u001b[0m \u001b[0mcollection\u001b[0m \u001b[0;34m=\u001b[0m \u001b[0mdb\u001b[0m\u001b[0;34m[\u001b[0m\u001b[0;34m'covid'\u001b[0m\u001b[0;34m]\u001b[0m \u001b[0;31m# need to create a collection before using it. this line should create it\u001b[0m\u001b[0;34m\u001b[0m\u001b[0;34m\u001b[0m\u001b[0m\n",
            "\u001b[0;31mAttributeError\u001b[0m: module 'mongo_uri' has no attribute 'db_uri'"
          ]
        }
      ]
    },
    {
      "cell_type": "code",
      "metadata": {
        "id": "DMXERvrNM3QB"
      },
      "source": [
        "collection.count_documents({})"
      ],
      "execution_count": null,
      "outputs": []
    },
    {
      "cell_type": "markdown",
      "metadata": {
        "id": "W7k7P5fKqc87"
      },
      "source": [
        "## Prepare covid data"
      ]
    },
    {
      "cell_type": "code",
      "metadata": {
        "id": "QMe0oe9lEqIW"
      },
      "source": [
        "!wget https://www.dropbox.com/s/52mrj5eg3pmjt82/data_covid_all.zip?dl=1 -O data_covid_all.zip\n",
        "!unzip data_covid_all.zip"
      ],
      "execution_count": null,
      "outputs": []
    },
    {
      "cell_type": "code",
      "metadata": {
        "id": "8awHlchWqcnt"
      },
      "source": [
        "import pandas as pd"
      ],
      "execution_count": null,
      "outputs": []
    },
    {
      "cell_type": "code",
      "metadata": {
        "id": "DYMWusPetZaI"
      },
      "source": [
        "df = pd.read_csv('data_covid_all.csv')"
      ],
      "execution_count": null,
      "outputs": []
    },
    {
      "cell_type": "markdown",
      "metadata": {
        "id": "Jdw0TgeFHT1h"
      },
      "source": [
        "- rename variable `fips` to `_id`"
      ]
    },
    {
      "cell_type": "code",
      "metadata": {
        "id": "zepfsDo6HTfN"
      },
      "source": [
        ""
      ],
      "execution_count": null,
      "outputs": []
    },
    {
      "cell_type": "markdown",
      "metadata": {
        "id": "UlA1dw43vrsP"
      },
      "source": [
        "## Insert the df to mongo\n",
        "\n",
        "- Convert DataFrame to dictionary, then insert data using `*.insert_many()`\n",
        "- Find how many rows in the table using `*.count_documents()`"
      ]
    },
    {
      "cell_type": "code",
      "metadata": {
        "id": "giUXm05xvf_3"
      },
      "source": [
        ""
      ],
      "execution_count": null,
      "outputs": []
    },
    {
      "cell_type": "markdown",
      "metadata": {
        "id": "GElhRfluwJNX"
      },
      "source": [
        "## Run the following queries\n",
        "\n",
        "Information about query syntax is available here:\n",
        "\n",
        "- https://docs.mongodb.com/manual/tutorial/query-documents/\n",
        "- https://docs.mongodb.com/manual/reference/operator/query/#query-selectors\n",
        "\n"
      ]
    },
    {
      "cell_type": "markdown",
      "metadata": {
        "id": "N6xBxtOMN7Qf"
      },
      "source": [
        "\n",
        "- Count Michigan documents\n",
        "- Select the record from Michigan. Convert the response to a DataFrame"
      ]
    },
    {
      "cell_type": "code",
      "metadata": {
        "id": "gQC0M3wGFIw9"
      },
      "source": [
        ""
      ],
      "execution_count": null,
      "outputs": []
    },
    {
      "cell_type": "markdown",
      "metadata": {
        "id": "ghOstgriFYIq"
      },
      "source": [
        "- Select the record on the following conditions\n",
        "  - State: Georgia, Wisconsin, Pennsylvania\n",
        "  - Date: 30 September, 2020"
      ]
    },
    {
      "cell_type": "code",
      "metadata": {
        "id": "J_MRr85PNr-U"
      },
      "source": [
        ""
      ],
      "execution_count": null,
      "outputs": []
    },
    {
      "cell_type": "markdown",
      "metadata": {
        "id": "_j9dotqUGjry"
      },
      "source": [
        "- Select the record on the following conditions\n",
        "  - Date: 15 September\n",
        "  - More than 100 deaths \n"
      ]
    },
    {
      "cell_type": "code",
      "metadata": {
        "id": "Rr4JSnyaNtiv"
      },
      "source": [
        ""
      ],
      "execution_count": null,
      "outputs": []
    },
    {
      "cell_type": "markdown",
      "metadata": {
        "id": "FNY6xUDjHzyD"
      },
      "source": [
        "### Use `projection` argument\n",
        "\n",
        "- Run the michigan query again, but only get the following fields\n",
        "    - `state_code`, `county`, `cases`, `deaths`, `TotalPop`, `White`, `Black`, `Hispanic`, `trump_pct`"
      ]
    },
    {
      "cell_type": "code",
      "metadata": {
        "id": "sJkqDWYBIrWf"
      },
      "source": [
        ""
      ],
      "execution_count": null,
      "outputs": []
    }
  ]
}