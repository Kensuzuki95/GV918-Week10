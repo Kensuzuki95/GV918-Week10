{
  "nbformat": 4,
  "nbformat_minor": 0,
  "metadata": {
    "colab": {
      "name": "Week10- Exercise1-BigQuery.ipynb",
      "provenance": [],
      "collapsed_sections": []
    },
    "kernelspec": {
      "name": "python3",
      "display_name": "Python 3"
    }
  },
  "cells": [
    {
      "cell_type": "markdown",
      "metadata": {
        "id": "wIAXoU2VLsGP"
      },
      "source": [
        "# Tasks\n",
        "\n",
        "- We will work with Google BigQuery from Colab\n",
        "- Some part of the instructions is coming from https://colab.research.google.com/notebooks/bigquery.ipynb\n",
        "- We will use covid-19-public-data\n",
        "- In particular, we use extract the UK data\n",
        "  1. Check what kind of data are available\n",
        "  2. Find out what we can do with the data\n",
        "\n"
      ]
    },
    {
      "cell_type": "markdown",
      "metadata": {
        "id": "H1nUZfvpMfzf"
      },
      "source": [
        "## Authentication\n",
        "\n",
        "The first step is to "
      ]
    },
    {
      "cell_type": "code",
      "metadata": {
        "colab": {
          "base_uri": "https://localhost:8080/"
        },
        "id": "8gLcMGytLruW",
        "outputId": "8d53d88c-778b-4c2d-bbdb-d67a1ba5c292"
      },
      "source": [
        "from google.colab import auth\n",
        "auth.authenticate_user()\n",
        "print('Authenticated')"
      ],
      "execution_count": 1,
      "outputs": [
        {
          "output_type": "stream",
          "text": [
            "Authenticated\n"
          ],
          "name": "stdout"
        }
      ]
    },
    {
      "cell_type": "markdown",
      "metadata": {
        "id": "5HnTw4X_MmOJ"
      },
      "source": [
        "## Load pacakges"
      ]
    },
    {
      "cell_type": "code",
      "metadata": {
        "id": "Va7sjKyJLjcY"
      },
      "source": [
        "from google.cloud import bigquery\n",
        "import pandas as pd"
      ],
      "execution_count": 2,
      "outputs": []
    },
    {
      "cell_type": "markdown",
      "metadata": {
        "id": "9JEFeinsNhEu"
      },
      "source": [
        "## Connect to big query"
      ]
    },
    {
      "cell_type": "markdown",
      "metadata": {
        "id": "tvdEdycIM39t"
      },
      "source": [
        "Go to the console and check your project name and paste here"
      ]
    },
    {
      "cell_type": "code",
      "metadata": {
        "id": "3K5m03VpM13u"
      },
      "source": [
        "project_id = \"gv918-ken\""
      ],
      "execution_count": 13,
      "outputs": []
    },
    {
      "cell_type": "code",
      "metadata": {
        "id": "GxGGYUXvNpQw",
        "colab": {
          "base_uri": "https://localhost:8080/"
        },
        "outputId": "131583d2-2d99-43fa-9fd2-ab8ce3a90445"
      },
      "source": [
        "client = bigquery.Client(project=project_id)"
      ],
      "execution_count": 12,
      "outputs": [
        {
          "output_type": "stream",
          "text": [
            "WARNING:google.auth._default:No project ID could be determined. Consider running `gcloud config set project` or setting the GOOGLE_CLOUD_PROJECT environment variable\n"
          ],
          "name": "stderr"
        }
      ]
    },
    {
      "cell_type": "markdown",
      "metadata": {
        "id": "20-SSUOSM--9"
      },
      "source": [
        "## Run queries\n",
        "\n",
        "We will use `bigquery-public-data.covid19_open_data.covid19_open_data`"
      ]
    },
    {
      "cell_type": "markdown",
      "metadata": {
        "id": "t3xk9dSQNMWH"
      },
      "source": [
        "### Simple query\n",
        "\n",
        "Get five rows from the table\n",
        "\n",
        "- How many rows in the table?\n",
        "- How many columns exist?"
      ]
    },
    {
      "cell_type": "code",
      "metadata": {
        "id": "fxc8pn3-NLrO"
      },
      "source": [
        "df = client.query('''\n",
        "SELECT * \n",
        "FROM `bigquery-public-data.covid19_open_data.covid19_open_data` \n",
        "LIMIT 5\n",
        "''').to_dataframe()"
      ],
      "execution_count": 14,
      "outputs": []
    },
    {
      "cell_type": "code",
      "metadata": {
        "colab": {
          "base_uri": "https://localhost:8080/",
          "height": 305
        },
        "id": "Hub-amDgvAvc",
        "outputId": "afc84bb8-f74a-4dcf-b9b2-e7406ccf95b7"
      },
      "source": [
        "df"
      ],
      "execution_count": 15,
      "outputs": [
        {
          "output_type": "execute_result",
          "data": {
            "text/html": [
              "<div>\n",
              "<style scoped>\n",
              "    .dataframe tbody tr th:only-of-type {\n",
              "        vertical-align: middle;\n",
              "    }\n",
              "\n",
              "    .dataframe tbody tr th {\n",
              "        vertical-align: top;\n",
              "    }\n",
              "\n",
              "    .dataframe thead th {\n",
              "        text-align: right;\n",
              "    }\n",
              "</style>\n",
              "<table border=\"1\" class=\"dataframe\">\n",
              "  <thead>\n",
              "    <tr style=\"text-align: right;\">\n",
              "      <th></th>\n",
              "      <th>date</th>\n",
              "      <th>location_key</th>\n",
              "      <th>country_code</th>\n",
              "      <th>country_name</th>\n",
              "      <th>subregion1_code</th>\n",
              "      <th>subregion1_name</th>\n",
              "      <th>subregion2_code</th>\n",
              "      <th>subregion2_name</th>\n",
              "      <th>iso_3166_1_alpha_2</th>\n",
              "      <th>iso_3166_1_alpha_3</th>\n",
              "      <th>aggregation_level</th>\n",
              "      <th>new_confirmed</th>\n",
              "      <th>new_deceased</th>\n",
              "      <th>new_recovered</th>\n",
              "      <th>new_tested</th>\n",
              "      <th>cumulative_confirmed</th>\n",
              "      <th>cumulative_deceased</th>\n",
              "      <th>cumulative_recovered</th>\n",
              "      <th>cumulative_tested</th>\n",
              "      <th>new_hospitalized_patients</th>\n",
              "      <th>new_intensive_care_patients</th>\n",
              "      <th>new_ventilator_patients</th>\n",
              "      <th>cumulative_hospitalized_patients</th>\n",
              "      <th>cumulative_intensive_care_patients</th>\n",
              "      <th>cumulative_ventilator_patients</th>\n",
              "      <th>current_hospitalized_patients</th>\n",
              "      <th>current_intensive_care_patients</th>\n",
              "      <th>current_ventilator_patients</th>\n",
              "      <th>mobility_transit_stations</th>\n",
              "      <th>mobility_retail_and_recreation</th>\n",
              "      <th>mobility_grocery_and_pharmacy</th>\n",
              "      <th>mobility_parks</th>\n",
              "      <th>mobility_residential</th>\n",
              "      <th>mobility_workplaces</th>\n",
              "      <th>wikidata_id</th>\n",
              "      <th>datacommons_id</th>\n",
              "      <th>openstreetmap_id</th>\n",
              "      <th>latitude</th>\n",
              "      <th>longitude</th>\n",
              "      <th>location_geometry</th>\n",
              "      <th>average_temperature_celsius</th>\n",
              "      <th>minimum_temperature_celsius</th>\n",
              "      <th>maximum_temperature_celsius</th>\n",
              "      <th>rainfall_mm</th>\n",
              "      <th>snowfall_mm</th>\n",
              "    </tr>\n",
              "  </thead>\n",
              "  <tbody>\n",
              "    <tr>\n",
              "      <th>0</th>\n",
              "      <td>2020-09-25</td>\n",
              "      <td>US_NY_36059</td>\n",
              "      <td>US</td>\n",
              "      <td>United States of America</td>\n",
              "      <td>NY</td>\n",
              "      <td>New York</td>\n",
              "      <td>36059</td>\n",
              "      <td>Nassau County</td>\n",
              "      <td>US</td>\n",
              "      <td>USA</td>\n",
              "      <td>2</td>\n",
              "      <td>71</td>\n",
              "      <td>0</td>\n",
              "      <td>None</td>\n",
              "      <td>8013</td>\n",
              "      <td>46505</td>\n",
              "      <td>2201</td>\n",
              "      <td>None</td>\n",
              "      <td>813482</td>\n",
              "      <td>None</td>\n",
              "      <td>None</td>\n",
              "      <td>None</td>\n",
              "      <td>None</td>\n",
              "      <td>None</td>\n",
              "      <td>None</td>\n",
              "      <td>None</td>\n",
              "      <td>None</td>\n",
              "      <td>None</td>\n",
              "      <td>-42</td>\n",
              "      <td>-16</td>\n",
              "      <td>-7</td>\n",
              "      <td>107</td>\n",
              "      <td>10</td>\n",
              "      <td>-35</td>\n",
              "      <td>Q54064</td>\n",
              "      <td>geoId/36059</td>\n",
              "      <td>2552442</td>\n",
              "      <td>40.747222</td>\n",
              "      <td>-73.638056</td>\n",
              "      <td>POINT(-73.638056 40.747222)</td>\n",
              "      <td>19.761111</td>\n",
              "      <td>15.272222</td>\n",
              "      <td>24.850000</td>\n",
              "      <td>0.0000</td>\n",
              "      <td>None</td>\n",
              "    </tr>\n",
              "    <tr>\n",
              "      <th>1</th>\n",
              "      <td>2020-09-26</td>\n",
              "      <td>US_NY_36059</td>\n",
              "      <td>US</td>\n",
              "      <td>United States of America</td>\n",
              "      <td>NY</td>\n",
              "      <td>New York</td>\n",
              "      <td>36059</td>\n",
              "      <td>Nassau County</td>\n",
              "      <td>US</td>\n",
              "      <td>USA</td>\n",
              "      <td>2</td>\n",
              "      <td>71</td>\n",
              "      <td>0</td>\n",
              "      <td>None</td>\n",
              "      <td>6097</td>\n",
              "      <td>46576</td>\n",
              "      <td>2201</td>\n",
              "      <td>None</td>\n",
              "      <td>819579</td>\n",
              "      <td>None</td>\n",
              "      <td>None</td>\n",
              "      <td>None</td>\n",
              "      <td>None</td>\n",
              "      <td>None</td>\n",
              "      <td>None</td>\n",
              "      <td>None</td>\n",
              "      <td>None</td>\n",
              "      <td>None</td>\n",
              "      <td>-23</td>\n",
              "      <td>-17</td>\n",
              "      <td>-6</td>\n",
              "      <td>176</td>\n",
              "      <td>2</td>\n",
              "      <td>-13</td>\n",
              "      <td>Q54064</td>\n",
              "      <td>geoId/36059</td>\n",
              "      <td>2552442</td>\n",
              "      <td>40.747222</td>\n",
              "      <td>-73.638056</td>\n",
              "      <td>POINT(-73.638056 40.747222)</td>\n",
              "      <td>20.150000</td>\n",
              "      <td>15.866667</td>\n",
              "      <td>24.483333</td>\n",
              "      <td>0.0000</td>\n",
              "      <td>None</td>\n",
              "    </tr>\n",
              "    <tr>\n",
              "      <th>2</th>\n",
              "      <td>2020-09-27</td>\n",
              "      <td>US_NY_36059</td>\n",
              "      <td>US</td>\n",
              "      <td>United States of America</td>\n",
              "      <td>NY</td>\n",
              "      <td>New York</td>\n",
              "      <td>36059</td>\n",
              "      <td>Nassau County</td>\n",
              "      <td>US</td>\n",
              "      <td>USA</td>\n",
              "      <td>2</td>\n",
              "      <td>67</td>\n",
              "      <td>0</td>\n",
              "      <td>None</td>\n",
              "      <td>5350</td>\n",
              "      <td>46643</td>\n",
              "      <td>2201</td>\n",
              "      <td>None</td>\n",
              "      <td>824929</td>\n",
              "      <td>None</td>\n",
              "      <td>None</td>\n",
              "      <td>None</td>\n",
              "      <td>None</td>\n",
              "      <td>None</td>\n",
              "      <td>None</td>\n",
              "      <td>None</td>\n",
              "      <td>None</td>\n",
              "      <td>None</td>\n",
              "      <td>-31</td>\n",
              "      <td>-19</td>\n",
              "      <td>-14</td>\n",
              "      <td>119</td>\n",
              "      <td>3</td>\n",
              "      <td>-16</td>\n",
              "      <td>Q54064</td>\n",
              "      <td>geoId/36059</td>\n",
              "      <td>2552442</td>\n",
              "      <td>40.747222</td>\n",
              "      <td>-73.638056</td>\n",
              "      <td>POINT(-73.638056 40.747222)</td>\n",
              "      <td>21.588889</td>\n",
              "      <td>17.744444</td>\n",
              "      <td>25.472222</td>\n",
              "      <td>0.0000</td>\n",
              "      <td>None</td>\n",
              "    </tr>\n",
              "    <tr>\n",
              "      <th>3</th>\n",
              "      <td>2020-09-28</td>\n",
              "      <td>US_NY_36059</td>\n",
              "      <td>US</td>\n",
              "      <td>United States of America</td>\n",
              "      <td>NY</td>\n",
              "      <td>New York</td>\n",
              "      <td>36059</td>\n",
              "      <td>Nassau County</td>\n",
              "      <td>US</td>\n",
              "      <td>USA</td>\n",
              "      <td>2</td>\n",
              "      <td>68</td>\n",
              "      <td>0</td>\n",
              "      <td>None</td>\n",
              "      <td>4544</td>\n",
              "      <td>46711</td>\n",
              "      <td>2201</td>\n",
              "      <td>None</td>\n",
              "      <td>829473</td>\n",
              "      <td>None</td>\n",
              "      <td>None</td>\n",
              "      <td>None</td>\n",
              "      <td>None</td>\n",
              "      <td>None</td>\n",
              "      <td>None</td>\n",
              "      <td>None</td>\n",
              "      <td>None</td>\n",
              "      <td>None</td>\n",
              "      <td>-50</td>\n",
              "      <td>-14</td>\n",
              "      <td>-10</td>\n",
              "      <td>109</td>\n",
              "      <td>13</td>\n",
              "      <td>-49</td>\n",
              "      <td>Q54064</td>\n",
              "      <td>geoId/36059</td>\n",
              "      <td>2552442</td>\n",
              "      <td>40.747222</td>\n",
              "      <td>-73.638056</td>\n",
              "      <td>POINT(-73.638056 40.747222)</td>\n",
              "      <td>22.088889</td>\n",
              "      <td>19.677778</td>\n",
              "      <td>25.300000</td>\n",
              "      <td>1.0160</td>\n",
              "      <td>None</td>\n",
              "    </tr>\n",
              "    <tr>\n",
              "      <th>4</th>\n",
              "      <td>2020-09-29</td>\n",
              "      <td>US_NY_36059</td>\n",
              "      <td>US</td>\n",
              "      <td>United States of America</td>\n",
              "      <td>NY</td>\n",
              "      <td>New York</td>\n",
              "      <td>36059</td>\n",
              "      <td>Nassau County</td>\n",
              "      <td>US</td>\n",
              "      <td>USA</td>\n",
              "      <td>2</td>\n",
              "      <td>80</td>\n",
              "      <td>0</td>\n",
              "      <td>None</td>\n",
              "      <td>6359</td>\n",
              "      <td>46791</td>\n",
              "      <td>2201</td>\n",
              "      <td>None</td>\n",
              "      <td>835832</td>\n",
              "      <td>None</td>\n",
              "      <td>None</td>\n",
              "      <td>None</td>\n",
              "      <td>None</td>\n",
              "      <td>None</td>\n",
              "      <td>None</td>\n",
              "      <td>None</td>\n",
              "      <td>None</td>\n",
              "      <td>None</td>\n",
              "      <td>-45</td>\n",
              "      <td>-18</td>\n",
              "      <td>-11</td>\n",
              "      <td>40</td>\n",
              "      <td>13</td>\n",
              "      <td>-37</td>\n",
              "      <td>Q54064</td>\n",
              "      <td>geoId/36059</td>\n",
              "      <td>2552442</td>\n",
              "      <td>40.747222</td>\n",
              "      <td>-73.638056</td>\n",
              "      <td>POINT(-73.638056 40.747222)</td>\n",
              "      <td>21.172222</td>\n",
              "      <td>19.538889</td>\n",
              "      <td>24.555556</td>\n",
              "      <td>0.8128</td>\n",
              "      <td>None</td>\n",
              "    </tr>\n",
              "  </tbody>\n",
              "</table>\n",
              "</div>"
            ],
            "text/plain": [
              "         date location_key  ... rainfall_mm snowfall_mm\n",
              "0  2020-09-25  US_NY_36059  ...      0.0000        None\n",
              "1  2020-09-26  US_NY_36059  ...      0.0000        None\n",
              "2  2020-09-27  US_NY_36059  ...      0.0000        None\n",
              "3  2020-09-28  US_NY_36059  ...      1.0160        None\n",
              "4  2020-09-29  US_NY_36059  ...      0.8128        None\n",
              "\n",
              "[5 rows x 45 columns]"
            ]
          },
          "metadata": {
            "tags": []
          },
          "execution_count": 15
        }
      ]
    },
    {
      "cell_type": "code",
      "metadata": {
        "colab": {
          "base_uri": "https://localhost:8080/"
        },
        "id": "woZEaNLxvNnV",
        "outputId": "ecb4dee9-90b5-4912-c5f2-e2239fc6a804"
      },
      "source": [
        "len(df.columns)"
      ],
      "execution_count": 17,
      "outputs": [
        {
          "output_type": "execute_result",
          "data": {
            "text/plain": [
              "45"
            ]
          },
          "metadata": {
            "tags": []
          },
          "execution_count": 17
        }
      ]
    },
    {
      "cell_type": "markdown",
      "metadata": {
        "id": "XHT8S9p_vHn-"
      },
      "source": [
        " - 5 Rows and 45 columns in the 'df' dataframe"
      ]
    },
    {
      "cell_type": "markdown",
      "metadata": {
        "id": "j3-5mDRjOLuw"
      },
      "source": [
        "### Explore the table\n",
        "\n",
        "- How many countries in the data\n",
        "- How many UK rows?\n",
        "- What's the geographical units for the UK subnational levels"
      ]
    },
    {
      "cell_type": "code",
      "metadata": {
        "colab": {
          "base_uri": "https://localhost:8080/"
        },
        "id": "cTb8v-dj0NTB",
        "outputId": "f09d44f7-e47b-4806-a20a-adf272fd9eb8"
      },
      "source": [
        "#How many countries in data\n",
        "num_country = client.query('''\n",
        "SELECT DISTINCT(country_code) \n",
        "FROM `bigquery-public-data.covid19_open_data.covid19_open_data` \n",
        "''').to_dataframe()\n",
        "len(num_country)"
      ],
      "execution_count": 30,
      "outputs": [
        {
          "output_type": "execute_result",
          "data": {
            "text/plain": [
              "247"
            ]
          },
          "metadata": {
            "tags": []
          },
          "execution_count": 30
        }
      ]
    },
    {
      "cell_type": "code",
      "metadata": {
        "id": "JSA5JT2kfQkX",
        "colab": {
          "base_uri": "https://localhost:8080/",
          "height": 79
        },
        "outputId": "55752b53-b782-4420-ea0d-df6f2c1624db"
      },
      "source": [
        "#How many UK rows?\n",
        "uk_rows = client.query('''\n",
        "SELECT COUNT(*) \n",
        "FROM `bigquery-public-data.covid19_open_data.covid19_open_data`\n",
        "WHERE country_code = 'GB' \n",
        "''').to_dataframe()\n",
        "uk_rows"
      ],
      "execution_count": 38,
      "outputs": [
        {
          "output_type": "execute_result",
          "data": {
            "text/html": [
              "<div>\n",
              "<style scoped>\n",
              "    .dataframe tbody tr th:only-of-type {\n",
              "        vertical-align: middle;\n",
              "    }\n",
              "\n",
              "    .dataframe tbody tr th {\n",
              "        vertical-align: top;\n",
              "    }\n",
              "\n",
              "    .dataframe thead th {\n",
              "        text-align: right;\n",
              "    }\n",
              "</style>\n",
              "<table border=\"1\" class=\"dataframe\">\n",
              "  <thead>\n",
              "    <tr style=\"text-align: right;\">\n",
              "      <th></th>\n",
              "      <th>f0_</th>\n",
              "    </tr>\n",
              "  </thead>\n",
              "  <tbody>\n",
              "    <tr>\n",
              "      <th>0</th>\n",
              "      <td>67768</td>\n",
              "    </tr>\n",
              "  </tbody>\n",
              "</table>\n",
              "</div>"
            ],
            "text/plain": [
              "     f0_\n",
              "0  67768"
            ]
          },
          "metadata": {
            "tags": []
          },
          "execution_count": 38
        }
      ]
    },
    {
      "cell_type": "code",
      "metadata": {
        "colab": {
          "base_uri": "https://localhost:8080/"
        },
        "id": "Xpk2qXkUxKVG",
        "outputId": "ad7e89be-8af9-42b6-973c-cbef0ab34eaf"
      },
      "source": [
        "df.columns"
      ],
      "execution_count": 59,
      "outputs": [
        {
          "output_type": "execute_result",
          "data": {
            "text/plain": [
              "Index(['date', 'location_key', 'country_code', 'country_name',\n",
              "       'subregion1_code', 'subregion1_name', 'subregion2_code',\n",
              "       'subregion2_name', 'iso_3166_1_alpha_2', 'iso_3166_1_alpha_3',\n",
              "       'aggregation_level', 'new_confirmed', 'new_deceased', 'new_recovered',\n",
              "       'new_tested', 'cumulative_confirmed', 'cumulative_deceased',\n",
              "       'cumulative_recovered', 'cumulative_tested',\n",
              "       'new_hospitalized_patients', 'new_intensive_care_patients',\n",
              "       'new_ventilator_patients', 'cumulative_hospitalized_patients',\n",
              "       'cumulative_intensive_care_patients', 'cumulative_ventilator_patients',\n",
              "       'current_hospitalized_patients', 'current_intensive_care_patients',\n",
              "       'current_ventilator_patients', 'mobility_transit_stations',\n",
              "       'mobility_retail_and_recreation', 'mobility_grocery_and_pharmacy',\n",
              "       'mobility_parks', 'mobility_residential', 'mobility_workplaces',\n",
              "       'wikidata_id', 'datacommons_id', 'openstreetmap_id', 'latitude',\n",
              "       'longitude', 'location_geometry', 'average_temperature_celsius',\n",
              "       'minimum_temperature_celsius', 'maximum_temperature_celsius',\n",
              "       'rainfall_mm', 'snowfall_mm'],\n",
              "      dtype='object')"
            ]
          },
          "metadata": {
            "tags": []
          },
          "execution_count": 59
        }
      ]
    },
    {
      "cell_type": "markdown",
      "metadata": {
        "id": "_NZQf_pJPvNz"
      },
      "source": [
        "- What's the latest date in the UK?"
      ]
    },
    {
      "cell_type": "code",
      "metadata": {
        "id": "x4_AtTwafR5M",
        "colab": {
          "base_uri": "https://localhost:8080/"
        },
        "outputId": "4b575202-26da-42e3-aa8e-44ef1ac44051"
      },
      "source": [
        "uk_rows = client.query('''\n",
        "SELECT COUNT(*) \n",
        "FROM `bigquery-public-data.covid19_open_data.covid19_open_data` \n",
        "WHERE country_code = 'GB'\n",
        "GROUP BY \n",
        "''')\n",
        "uk_rows"
      ],
      "execution_count": 57,
      "outputs": [
        {
          "output_type": "execute_result",
          "data": {
            "text/plain": [
              "<google.cloud.bigquery.job.QueryJob at 0x7f926fea8320>"
            ]
          },
          "metadata": {
            "tags": []
          },
          "execution_count": 57
        }
      ]
    },
    {
      "cell_type": "code",
      "metadata": {
        "id": "R7uhP7XefUFW",
        "colab": {
          "base_uri": "https://localhost:8080/",
          "height": 414
        },
        "outputId": "8660a1ad-6d78-42b5-c295-a5d1f963d2b7"
      },
      "source": [
        "uk_subregion = client.query('''\n",
        "SELECT DISTINCT(subregion2_name) \n",
        "FROM `bigquery-public-data.covid19_open_data.covid19_open_data` \n",
        "WHERE country_code = 'GB'\n",
        "''').to_dataframe()\n",
        "uk_subregion"
      ],
      "execution_count": 55,
      "outputs": [
        {
          "output_type": "execute_result",
          "data": {
            "text/html": [
              "<div>\n",
              "<style scoped>\n",
              "    .dataframe tbody tr th:only-of-type {\n",
              "        vertical-align: middle;\n",
              "    }\n",
              "\n",
              "    .dataframe tbody tr th {\n",
              "        vertical-align: top;\n",
              "    }\n",
              "\n",
              "    .dataframe thead th {\n",
              "        text-align: right;\n",
              "    }\n",
              "</style>\n",
              "<table border=\"1\" class=\"dataframe\">\n",
              "  <thead>\n",
              "    <tr style=\"text-align: right;\">\n",
              "      <th></th>\n",
              "      <th>subregion2_name</th>\n",
              "    </tr>\n",
              "  </thead>\n",
              "  <tbody>\n",
              "    <tr>\n",
              "      <th>0</th>\n",
              "      <td>None</td>\n",
              "    </tr>\n",
              "    <tr>\n",
              "      <th>1</th>\n",
              "      <td>Hartlepool</td>\n",
              "    </tr>\n",
              "    <tr>\n",
              "      <th>2</th>\n",
              "      <td>Middlesbrough</td>\n",
              "    </tr>\n",
              "    <tr>\n",
              "      <th>3</th>\n",
              "      <td>Redcar and Cleveland</td>\n",
              "    </tr>\n",
              "    <tr>\n",
              "      <th>4</th>\n",
              "      <td>Stockton-on-Tees</td>\n",
              "    </tr>\n",
              "    <tr>\n",
              "      <th>...</th>\n",
              "      <td>...</td>\n",
              "    </tr>\n",
              "    <tr>\n",
              "      <th>178</th>\n",
              "      <td>Hywel Dda</td>\n",
              "    </tr>\n",
              "    <tr>\n",
              "      <th>179</th>\n",
              "      <td>Aneurin Bevan</td>\n",
              "    </tr>\n",
              "    <tr>\n",
              "      <th>180</th>\n",
              "      <td>Cardiff and Vale</td>\n",
              "    </tr>\n",
              "    <tr>\n",
              "      <th>181</th>\n",
              "      <td>Cwm Taf</td>\n",
              "    </tr>\n",
              "    <tr>\n",
              "      <th>182</th>\n",
              "      <td>Swansea Bay</td>\n",
              "    </tr>\n",
              "  </tbody>\n",
              "</table>\n",
              "<p>183 rows × 1 columns</p>\n",
              "</div>"
            ],
            "text/plain": [
              "          subregion2_name\n",
              "0                    None\n",
              "1              Hartlepool\n",
              "2           Middlesbrough\n",
              "3    Redcar and Cleveland\n",
              "4        Stockton-on-Tees\n",
              "..                    ...\n",
              "178             Hywel Dda\n",
              "179         Aneurin Bevan\n",
              "180      Cardiff and Vale\n",
              "181               Cwm Taf\n",
              "182           Swansea Bay\n",
              "\n",
              "[183 rows x 1 columns]"
            ]
          },
          "metadata": {
            "tags": []
          },
          "execution_count": 55
        }
      ]
    },
    {
      "cell_type": "code",
      "metadata": {
        "colab": {
          "base_uri": "https://localhost:8080/"
        },
        "id": "ITXbvIz05dDM",
        "outputId": "a9219298-b198-4b56-a73d-c2ac94cf52d7"
      },
      "source": [
        "client.query('''\n",
        "SELECT subregion2_code, subregion2_name, COUNT(subregion2_name)\n",
        "FROM `bigquery-public-data.covid19_open_data.covid19_open_data`\n",
        "WHERE country_code = 'GB'\n",
        "''')"
      ],
      "execution_count": 48,
      "outputs": [
        {
          "output_type": "execute_result",
          "data": {
            "text/plain": [
              "<google.cloud.bigquery.job.QueryJob at 0x7f926feb4278>"
            ]
          },
          "metadata": {
            "tags": []
          },
          "execution_count": 48
        }
      ]
    },
    {
      "cell_type": "markdown",
      "metadata": {
        "id": "NmT5Tq_RQIqN"
      },
      "source": [
        "- On 1 December 2020, at subregion2 level\n",
        "  - Which sub region had the highest number of qumulative cases"
      ]
    },
    {
      "cell_type": "code",
      "metadata": {
        "id": "wVkfqe3z82j3"
      },
      "source": [
        ""
      ],
      "execution_count": null,
      "outputs": []
    },
    {
      "cell_type": "markdown",
      "metadata": {
        "id": "N2QRe4qtSRLQ"
      },
      "source": [
        "- Mobility check on 1 Dec\n",
        "  - How is the modiblity data look like?\n",
        "    - `mobility_retail_and_recreation`\n",
        "    - `mobility_parks`\n",
        "    - `mobility_workplaces`"
      ]
    },
    {
      "cell_type": "code",
      "metadata": {
        "id": "muxvjcVr8SjF",
        "outputId": "d47afe3c-8541-42db-cf50-e23de2a634ea",
        "colab": {
          "base_uri": "https://localhost:8080/",
          "height": 313
        }
      },
      "source": [
        "uk_cases = client.query('''\n",
        "SELECT *\n",
        "FROM `bigquery-public-data.covid19_open_data.covid19_open_data` \n",
        "WHERE country_code = 'GB' AND date = '2020-12-01' AND subregion2_code != 'None'\n",
        "ORDER BY cumulative_confirmed DESC\n",
        "''').to_dataframe().describe()\n",
        "uk_cases"
      ],
      "execution_count": 64,
      "outputs": [
        {
          "output_type": "execute_result",
          "data": {
            "text/html": [
              "<div>\n",
              "<style scoped>\n",
              "    .dataframe tbody tr th:only-of-type {\n",
              "        vertical-align: middle;\n",
              "    }\n",
              "\n",
              "    .dataframe tbody tr th {\n",
              "        vertical-align: top;\n",
              "    }\n",
              "\n",
              "    .dataframe thead th {\n",
              "        text-align: right;\n",
              "    }\n",
              "</style>\n",
              "<table border=\"1\" class=\"dataframe\">\n",
              "  <thead>\n",
              "    <tr style=\"text-align: right;\">\n",
              "      <th></th>\n",
              "      <th>aggregation_level</th>\n",
              "      <th>new_confirmed</th>\n",
              "      <th>cumulative_confirmed</th>\n",
              "      <th>mobility_transit_stations</th>\n",
              "      <th>mobility_retail_and_recreation</th>\n",
              "      <th>mobility_grocery_and_pharmacy</th>\n",
              "      <th>mobility_parks</th>\n",
              "      <th>mobility_residential</th>\n",
              "      <th>mobility_workplaces</th>\n",
              "      <th>openstreetmap_id</th>\n",
              "      <th>latitude</th>\n",
              "      <th>longitude</th>\n",
              "      <th>average_temperature_celsius</th>\n",
              "      <th>minimum_temperature_celsius</th>\n",
              "      <th>maximum_temperature_celsius</th>\n",
              "      <th>rainfall_mm</th>\n",
              "    </tr>\n",
              "  </thead>\n",
              "  <tbody>\n",
              "    <tr>\n",
              "      <th>count</th>\n",
              "      <td>182.0</td>\n",
              "      <td>181.000000</td>\n",
              "      <td>181.000000</td>\n",
              "      <td>124.000000</td>\n",
              "      <td>126.000000</td>\n",
              "      <td>126.000000</td>\n",
              "      <td>105.000000</td>\n",
              "      <td>125.000000</td>\n",
              "      <td>129.000000</td>\n",
              "      <td>1.450000e+02</td>\n",
              "      <td>159.000000</td>\n",
              "      <td>159.000000</td>\n",
              "      <td>159.000000</td>\n",
              "      <td>159.000000</td>\n",
              "      <td>159.000000</td>\n",
              "      <td>159.000000</td>\n",
              "    </tr>\n",
              "    <tr>\n",
              "      <th>mean</th>\n",
              "      <td>2.0</td>\n",
              "      <td>87.762431</td>\n",
              "      <td>9130.441989</td>\n",
              "      <td>-41.983871</td>\n",
              "      <td>-39.023810</td>\n",
              "      <td>-5.277778</td>\n",
              "      <td>11.447619</td>\n",
              "      <td>13.288000</td>\n",
              "      <td>-33.038760</td>\n",
              "      <td>4.554163e+05</td>\n",
              "      <td>52.616600</td>\n",
              "      <td>-1.594282</td>\n",
              "      <td>4.784354</td>\n",
              "      <td>2.199794</td>\n",
              "      <td>7.348447</td>\n",
              "      <td>0.603932</td>\n",
              "    </tr>\n",
              "    <tr>\n",
              "      <th>std</th>\n",
              "      <td>0.0</td>\n",
              "      <td>89.892429</td>\n",
              "      <td>7766.718995</td>\n",
              "      <td>11.530084</td>\n",
              "      <td>10.197619</td>\n",
              "      <td>8.071321</td>\n",
              "      <td>21.025617</td>\n",
              "      <td>2.555248</td>\n",
              "      <td>7.165895</td>\n",
              "      <td>1.509017e+06</td>\n",
              "      <td>1.275488</td>\n",
              "      <td>1.718141</td>\n",
              "      <td>1.000633</td>\n",
              "      <td>1.187482</td>\n",
              "      <td>0.918018</td>\n",
              "      <td>0.533091</td>\n",
              "    </tr>\n",
              "    <tr>\n",
              "      <th>min</th>\n",
              "      <td>2.0</td>\n",
              "      <td>0.000000</td>\n",
              "      <td>38.000000</td>\n",
              "      <td>-79.000000</td>\n",
              "      <td>-89.000000</td>\n",
              "      <td>-72.000000</td>\n",
              "      <td>-84.000000</td>\n",
              "      <td>7.000000</td>\n",
              "      <td>-66.000000</td>\n",
              "      <td>1.018700e+04</td>\n",
              "      <td>50.383330</td>\n",
              "      <td>-7.494000</td>\n",
              "      <td>2.411111</td>\n",
              "      <td>-0.761111</td>\n",
              "      <td>4.950000</td>\n",
              "      <td>0.025400</td>\n",
              "    </tr>\n",
              "    <tr>\n",
              "      <th>25%</th>\n",
              "      <td>2.0</td>\n",
              "      <td>37.000000</td>\n",
              "      <td>4148.000000</td>\n",
              "      <td>-50.250000</td>\n",
              "      <td>-43.000000</td>\n",
              "      <td>-8.000000</td>\n",
              "      <td>2.000000</td>\n",
              "      <td>12.000000</td>\n",
              "      <td>-37.000000</td>\n",
              "      <td>8.027700e+04</td>\n",
              "      <td>51.500000</td>\n",
              "      <td>-2.274028</td>\n",
              "      <td>4.200000</td>\n",
              "      <td>1.505556</td>\n",
              "      <td>6.865123</td>\n",
              "      <td>0.093134</td>\n",
              "    </tr>\n",
              "    <tr>\n",
              "      <th>50%</th>\n",
              "      <td>2.0</td>\n",
              "      <td>62.000000</td>\n",
              "      <td>6811.000000</td>\n",
              "      <td>-41.500000</td>\n",
              "      <td>-39.000000</td>\n",
              "      <td>-5.000000</td>\n",
              "      <td>12.000000</td>\n",
              "      <td>13.000000</td>\n",
              "      <td>-32.000000</td>\n",
              "      <td>1.466560e+05</td>\n",
              "      <td>52.480480</td>\n",
              "      <td>-1.333333</td>\n",
              "      <td>4.772222</td>\n",
              "      <td>2.160494</td>\n",
              "      <td>7.350000</td>\n",
              "      <td>0.533400</td>\n",
              "    </tr>\n",
              "    <tr>\n",
              "      <th>75%</th>\n",
              "      <td>2.0</td>\n",
              "      <td>103.000000</td>\n",
              "      <td>11211.000000</td>\n",
              "      <td>-32.750000</td>\n",
              "      <td>-35.000000</td>\n",
              "      <td>-1.000000</td>\n",
              "      <td>21.000000</td>\n",
              "      <td>15.000000</td>\n",
              "      <td>-28.000000</td>\n",
              "      <td>1.624880e+05</td>\n",
              "      <td>53.563750</td>\n",
              "      <td>-0.273889</td>\n",
              "      <td>5.105556</td>\n",
              "      <td>3.122222</td>\n",
              "      <td>7.716667</td>\n",
              "      <td>0.914400</td>\n",
              "    </tr>\n",
              "    <tr>\n",
              "      <th>max</th>\n",
              "      <td>2.0</td>\n",
              "      <td>769.000000</td>\n",
              "      <td>48486.000000</td>\n",
              "      <td>-18.000000</td>\n",
              "      <td>-5.000000</td>\n",
              "      <td>10.000000</td>\n",
              "      <td>60.000000</td>\n",
              "      <td>21.000000</td>\n",
              "      <td>-18.000000</td>\n",
              "      <td>9.448449e+06</td>\n",
              "      <td>55.203000</td>\n",
              "      <td>1.000000</td>\n",
              "      <td>7.788889</td>\n",
              "      <td>5.833333</td>\n",
              "      <td>10.044444</td>\n",
              "      <td>2.257778</td>\n",
              "    </tr>\n",
              "  </tbody>\n",
              "</table>\n",
              "</div>"
            ],
            "text/plain": [
              "       aggregation_level  ...  rainfall_mm\n",
              "count              182.0  ...   159.000000\n",
              "mean                 2.0  ...     0.603932\n",
              "std                  0.0  ...     0.533091\n",
              "min                  2.0  ...     0.025400\n",
              "25%                  2.0  ...     0.093134\n",
              "50%                  2.0  ...     0.533400\n",
              "75%                  2.0  ...     0.914400\n",
              "max                  2.0  ...     2.257778\n",
              "\n",
              "[8 rows x 16 columns]"
            ]
          },
          "metadata": {
            "tags": []
          },
          "execution_count": 64
        }
      ]
    },
    {
      "cell_type": "markdown",
      "metadata": {
        "id": "YpM_Pi7xS09t"
      },
      "source": [
        "## Work with the Essex data\n",
        "\n",
        "We can get the essex county data. Using it:\n",
        "\n",
        "- Plot the case figure growth by date\n",
        "- Plot mobility changes by date\n",
        "\n",
        "Anything interesting?\n"
      ]
    },
    {
      "cell_type": "code",
      "metadata": {
        "id": "eVCmOU4qVh8U"
      },
      "source": [
        "  import matplotlib.pyplot as pyplot\n",
        "  import seaborn as sns"
      ],
      "execution_count": null,
      "outputs": []
    },
    {
      "cell_type": "code",
      "metadata": {
        "id": "Oc0gxELm9Brq"
      },
      "source": [
        "sns.styleset. "
      ],
      "execution_count": null,
      "outputs": []
    },
    {
      "cell_type": "code",
      "metadata": {
        "id": "XLWauRfr9Fb1"
      },
      "source": [
        ""
      ],
      "execution_count": null,
      "outputs": []
    },
    {
      "cell_type": "code",
      "metadata": {
        "id": "A74_FA0Q9JvA"
      },
      "source": [
        "plt.figure(figsize = (10, 6))\n",
        "sns.lineplot(x = 'date', y = 'cumulative_confirmed', data = df_essex)"
      ],
      "execution_count": null,
      "outputs": []
    },
    {
      "cell_type": "code",
      "metadata": {
        "id": "30PO9i-G9cpF"
      },
      "source": [
        "plt.figure(figsize = (10, 6))\n",
        "sns.lineplot(x = 'date', y = 'new_confirmed', data = df_essex)"
      ],
      "execution_count": null,
      "outputs": []
    },
    {
      "cell_type": "code",
      "metadata": {
        "id": "Of4mJjbp9l7O"
      },
      "source": [
        "plt.figure(figsize = (10, 6))\n",
        "sns.lineplot(x = 'date', y = 'mobility_retail_and_recreation', data = df_essex)"
      ],
      "execution_count": null,
      "outputs": []
    },
    {
      "cell_type": "code",
      "metadata": {
        "id": "nnXmwrFE-KgP"
      },
      "source": [
        "plt.figure(figsize = (10, 6))\n",
        "sns.lineplot(x = 'date', y = 'mobility_parks', data = df_essex)"
      ],
      "execution_count": null,
      "outputs": []
    }
  ]
}